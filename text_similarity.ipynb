{
 "cells": [
  {
   "cell_type": "code",
   "execution_count": 1,
   "metadata": {},
   "outputs": [],
   "source": [
    "input_file = open('sentences.txt', 'r')"
   ]
  },
  {
   "cell_type": "code",
   "execution_count": 2,
   "metadata": {},
   "outputs": [],
   "source": [
    "import re"
   ]
  },
  {
   "cell_type": "code",
   "execution_count": 3,
   "metadata": {},
   "outputs": [],
   "source": [
    "sentences_list = input_file.readlines()\n",
    "words_list = list()\n",
    "treated_sentences_list = list()\n",
    "\n",
    "for sentence in sentences_list:\n",
    "    sentence = sentence.lower()\n",
    "    words = re.split('[^a-z]', sentence)\n",
    "    \n",
    "    while '' in words:\n",
    "        words.remove('')\n",
    "        \n",
    "    treated_sentences_list.append(words)\n",
    "        \n",
    "    for word in words:\n",
    "        words_list.append(word)\n",
    "        \n",
    "words_set = set(words_list)"
   ]
  },
  {
   "cell_type": "code",
   "execution_count": 4,
   "metadata": {},
   "outputs": [],
   "source": [
    "import numpy as np"
   ]
  },
  {
   "cell_type": "code",
   "execution_count": 5,
   "metadata": {},
   "outputs": [],
   "source": [
    "matrix_of_entries = np.zeros((len(sentences_list), len(words_set)), dtype = int)"
   ]
  },
  {
   "cell_type": "code",
   "execution_count": 6,
   "metadata": {},
   "outputs": [],
   "source": [
    "i = 0\n",
    "\n",
    "for sentence in treated_sentences_list:\n",
    "    j = 0\n",
    "    \n",
    "    for word in words_set:\n",
    "        matrix_of_entries[i, j] += sentence.count(word)\n",
    "        j += 1\n",
    "        \n",
    "    i += 1"
   ]
  },
  {
   "cell_type": "code",
   "execution_count": 7,
   "metadata": {},
   "outputs": [],
   "source": [
    "from scipy.spatial import distance"
   ]
  },
  {
   "cell_type": "code",
   "execution_count": 8,
   "metadata": {},
   "outputs": [],
   "source": [
    "temp_distances = list()\n",
    "\n",
    "for i in xrange(1, len(sentences_list)):\n",
    "    temp_distances.append(distance.cosine(matrix_of_entries[0,:], matrix_of_entries[i,:]))\n",
    "    \n",
    "distances = np.array(temp_distances)"
   ]
  },
  {
   "cell_type": "code",
   "execution_count": 9,
   "metadata": {},
   "outputs": [
    {
     "data": {
      "text/plain": [
       "array([ 3,  5, 20], dtype=int64)"
      ]
     },
     "execution_count": 9,
     "metadata": {},
     "output_type": "execute_result"
    }
   ],
   "source": [
    "answer = distances.argpartition(2)[:2]\n",
    "answer.sort()\n"
   ]
  },
  {
   "cell_type": "code",
   "execution_count": 10,
   "metadata": {},
   "outputs": [],
   "source": [
    "output_file = open('submission-1.txt', 'w')\n",
    "output_file.writelines(format((answer[0] + 1)) + ' ' + format((answer[1] + 1)))"
   ]
  }
 ],
 "metadata": {
  "kernelspec": {
   "display_name": "Python 2",
   "language": "python",
   "name": "python2"
  },
  "language_info": {
   "codemirror_mode": {
    "name": "ipython",
    "version": 2
   },
   "file_extension": ".py",
   "mimetype": "text/x-python",
   "name": "python",
   "nbconvert_exporter": "python",
   "pygments_lexer": "ipython2",
   "version": "2.7.16"
  }
 },
 "nbformat": 4,
 "nbformat_minor": 2
}
